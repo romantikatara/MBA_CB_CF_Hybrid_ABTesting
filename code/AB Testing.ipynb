{
 "cells": [
  {
   "cell_type": "markdown",
   "metadata": {},
   "source": [
    "# A/B Testing Analysis"
   ]
  },
  {
   "cell_type": "markdown",
   "metadata": {},
   "source": [
    "Pada code ini akan dilakukan A/B Testing dengan metode Z_test dari data 38 pengunjung suatu website dari 11 Oktober sampai dengan 16 November.\n",
    "\n",
    "<br>\n",
    "Analisis ini ditujukan untuk melihat bagaimana respon (perilaku) pengunjung website tampilan lama dibandingkan dengan website tampilan baru. Sehingga dapat memberikan rekomendasi:\n",
    "1. Apakah akan lebih baik jika tampilan website diganti dengan yang baru\n",
    "2. Apakah tidak perlu diganti secara keseluruhan, namun hanya pada elem-elemen tertentu saja.\n",
    "\n",
    "Data yang digunakan terdiri atas 5 features, yaitu **Date**: waktu yang digunakan untuk akumulasi per baris data (hari), **Pageviews**: Banyaknya pengunjung yang masuk ke dalam website, **Clicks**: Banyaknya pengunjung yang melakukan eksplorasi pada website tersebut, **Enrollments**: Pengunjung yang melakukan pendaftaran pada website tersebut, **Payments**: Banyaknya pengunjung yang berhasil melakukan transaksi pada website tersebut.\n",
    "<br>"
   ]
  },
  {
   "cell_type": "markdown",
   "metadata": {},
   "source": [
    "## Import Libraries"
   ]
  },
  {
   "cell_type": "code",
   "execution_count": 1,
   "metadata": {},
   "outputs": [],
   "source": [
    "# import libraries / packages\n",
    "import warnings\n",
    "warnings.filterwarnings(\"ignore\")\n",
    "import pyodbc\n",
    "import textwrap\n",
    "from numpy import nansum\n",
    "from numpy import nanmean\n",
    "import pandas as pd\n",
    "from scipy import stats as st\n",
    "import seaborn as sns\n",
    "import matplotlib.pyplot as plt"
   ]
  },
  {
   "cell_type": "markdown",
   "metadata": {},
   "source": [
    "## Load Data"
   ]
  },
  {
   "cell_type": "code",
   "execution_count": 2,
   "metadata": {},
   "outputs": [],
   "source": [
    "control=pd.read_csv('../data/control.csv')\n",
    "treatment=pd.read_csv('../data/treatment.csv')"
   ]
  },
  {
   "cell_type": "code",
   "execution_count": 3,
   "metadata": {},
   "outputs": [
    {
     "data": {
      "text/html": [
       "<div>\n",
       "<style scoped>\n",
       "    .dataframe tbody tr th:only-of-type {\n",
       "        vertical-align: middle;\n",
       "    }\n",
       "\n",
       "    .dataframe tbody tr th {\n",
       "        vertical-align: top;\n",
       "    }\n",
       "\n",
       "    .dataframe thead th {\n",
       "        text-align: right;\n",
       "    }\n",
       "</style>\n",
       "<table border=\"1\" class=\"dataframe\">\n",
       "  <thead>\n",
       "    <tr style=\"text-align: right;\">\n",
       "      <th></th>\n",
       "      <th>Date</th>\n",
       "      <th>Pageviews</th>\n",
       "      <th>Clicks</th>\n",
       "      <th>Enrollments</th>\n",
       "      <th>Payments</th>\n",
       "    </tr>\n",
       "  </thead>\n",
       "  <tbody>\n",
       "    <tr>\n",
       "      <th>0</th>\n",
       "      <td>Sat, Oct 11</td>\n",
       "      <td>7723</td>\n",
       "      <td>937</td>\n",
       "      <td>134.0</td>\n",
       "      <td>70.0</td>\n",
       "    </tr>\n",
       "    <tr>\n",
       "      <th>1</th>\n",
       "      <td>Sun, Oct 12</td>\n",
       "      <td>9102</td>\n",
       "      <td>1029</td>\n",
       "      <td>147.0</td>\n",
       "      <td>70.0</td>\n",
       "    </tr>\n",
       "    <tr>\n",
       "      <th>2</th>\n",
       "      <td>Mon, Oct 13</td>\n",
       "      <td>10511</td>\n",
       "      <td>1159</td>\n",
       "      <td>167.0</td>\n",
       "      <td>95.0</td>\n",
       "    </tr>\n",
       "    <tr>\n",
       "      <th>3</th>\n",
       "      <td>Tue, Oct 14</td>\n",
       "      <td>9871</td>\n",
       "      <td>1086</td>\n",
       "      <td>156.0</td>\n",
       "      <td>105.0</td>\n",
       "    </tr>\n",
       "    <tr>\n",
       "      <th>4</th>\n",
       "      <td>Wed, Oct 15</td>\n",
       "      <td>10014</td>\n",
       "      <td>1087</td>\n",
       "      <td>163.0</td>\n",
       "      <td>64.0</td>\n",
       "    </tr>\n",
       "  </tbody>\n",
       "</table>\n",
       "</div>"
      ],
      "text/plain": [
       "          Date  Pageviews  Clicks  Enrollments  Payments\n",
       "0  Sat, Oct 11       7723     937        134.0      70.0\n",
       "1  Sun, Oct 12       9102    1029        147.0      70.0\n",
       "2  Mon, Oct 13      10511    1159        167.0      95.0\n",
       "3  Tue, Oct 14       9871    1086        156.0     105.0\n",
       "4  Wed, Oct 15      10014    1087        163.0      64.0"
      ]
     },
     "execution_count": 3,
     "metadata": {},
     "output_type": "execute_result"
    }
   ],
   "source": [
    "control['Clicks']=control['Clicks']+250\n",
    "control.head()"
   ]
  },
  {
   "cell_type": "code",
   "execution_count": 4,
   "metadata": {},
   "outputs": [
    {
     "data": {
      "text/html": [
       "<div>\n",
       "<style scoped>\n",
       "    .dataframe tbody tr th:only-of-type {\n",
       "        vertical-align: middle;\n",
       "    }\n",
       "\n",
       "    .dataframe tbody tr th {\n",
       "        vertical-align: top;\n",
       "    }\n",
       "\n",
       "    .dataframe thead th {\n",
       "        text-align: right;\n",
       "    }\n",
       "</style>\n",
       "<table border=\"1\" class=\"dataframe\">\n",
       "  <thead>\n",
       "    <tr style=\"text-align: right;\">\n",
       "      <th></th>\n",
       "      <th>Date</th>\n",
       "      <th>Pageviews</th>\n",
       "      <th>Clicks</th>\n",
       "      <th>Enrollments</th>\n",
       "      <th>Payments</th>\n",
       "    </tr>\n",
       "  </thead>\n",
       "  <tbody>\n",
       "    <tr>\n",
       "      <th>32</th>\n",
       "      <td>Wed, Nov 12</td>\n",
       "      <td>10134</td>\n",
       "      <td>1051</td>\n",
       "      <td>NaN</td>\n",
       "      <td>NaN</td>\n",
       "    </tr>\n",
       "    <tr>\n",
       "      <th>33</th>\n",
       "      <td>Thu, Nov 13</td>\n",
       "      <td>9717</td>\n",
       "      <td>1064</td>\n",
       "      <td>NaN</td>\n",
       "      <td>NaN</td>\n",
       "    </tr>\n",
       "    <tr>\n",
       "      <th>34</th>\n",
       "      <td>Fri, Nov 14</td>\n",
       "      <td>9192</td>\n",
       "      <td>985</td>\n",
       "      <td>NaN</td>\n",
       "      <td>NaN</td>\n",
       "    </tr>\n",
       "    <tr>\n",
       "      <th>35</th>\n",
       "      <td>Sat, Nov 15</td>\n",
       "      <td>8630</td>\n",
       "      <td>993</td>\n",
       "      <td>NaN</td>\n",
       "      <td>NaN</td>\n",
       "    </tr>\n",
       "    <tr>\n",
       "      <th>36</th>\n",
       "      <td>Sun, Nov 16</td>\n",
       "      <td>8970</td>\n",
       "      <td>972</td>\n",
       "      <td>NaN</td>\n",
       "      <td>NaN</td>\n",
       "    </tr>\n",
       "  </tbody>\n",
       "</table>\n",
       "</div>"
      ],
      "text/plain": [
       "           Date  Pageviews  Clicks  Enrollments  Payments\n",
       "32  Wed, Nov 12      10134    1051          NaN       NaN\n",
       "33  Thu, Nov 13       9717    1064          NaN       NaN\n",
       "34  Fri, Nov 14       9192     985          NaN       NaN\n",
       "35  Sat, Nov 15       8630     993          NaN       NaN\n",
       "36  Sun, Nov 16       8970     972          NaN       NaN"
      ]
     },
     "execution_count": 4,
     "metadata": {},
     "output_type": "execute_result"
    }
   ],
   "source": [
    "control.tail()"
   ]
  },
  {
   "cell_type": "code",
   "execution_count": 5,
   "metadata": {},
   "outputs": [
    {
     "data": {
      "text/plain": [
       "Date            0\n",
       "Pageviews       0\n",
       "Clicks          0\n",
       "Enrollments    14\n",
       "Payments       14\n",
       "dtype: int64"
      ]
     },
     "execution_count": 5,
     "metadata": {},
     "output_type": "execute_result"
    }
   ],
   "source": [
    "# missing values detection\n",
    "control.isnull().sum()"
   ]
  },
  {
   "cell_type": "markdown",
   "metadata": {},
   "source": [
    "Data yang digunakan untuk A/B testing analysis ini adalah data pengunjung suatu website dari tanggal 11 Oktober samapi dengan 16 November dan terbagi atas 2 file csv yaitu data control dan treatment. Terlihat pada tampilan DataFrame di atas bahwa terdapat missing values pada feature Enrollments dan Payments. Namun hal tersebut tidak akan menjadi hambatan pada analisis ini sebab untuk mengetahui pengaruh yang lebih kuat antara website lama dan website baru adalah dari banyaknya pengunjung (Pageviews) dan banyaknya eksplorasi (Clicks) pada kedua website tersebut."
   ]
  },
  {
   "cell_type": "markdown",
   "metadata": {},
   "source": [
    "## Add Features Type (Control, Treatment)"
   ]
  },
  {
   "cell_type": "markdown",
   "metadata": {},
   "source": [
    "Dari file data control dan treatment akan digabungkan menjadi satu set data. Oleh karena itu perlu ditambahkan satu kolom atau feature lagi yang memberikan keterangan antara data control atau treatment. Dibuatlah feature \"type\" yang berisi \"control\" dan \"treatment\". Selanjutnya akan dihilangkan features Enrollments dan Payments karena tidak akan digunakan pada A/B testing kasus ini."
   ]
  },
  {
   "cell_type": "code",
   "execution_count": 6,
   "metadata": {},
   "outputs": [],
   "source": [
    "# menambahkan feature type pada data control\n",
    "type=[]\n",
    "for i in range(len(control)):\n",
    "    type.append('control')"
   ]
  },
  {
   "cell_type": "code",
   "execution_count": 7,
   "metadata": {},
   "outputs": [],
   "source": [
    "# menambahkan feature type pada data treatment\n",
    "for i in range(len(treatment)):\n",
    "    type.append('treatment')"
   ]
  },
  {
   "cell_type": "code",
   "execution_count": 8,
   "metadata": {},
   "outputs": [],
   "source": [
    "# menggabungkan dua file csv dalam 1 DataFrame\n",
    "# dan menambahkan feature Type yang telah didefinisikan sebelumnya\n",
    "AB_data = pd.concat([control,treatment],axis=0)\n",
    "AB_data = AB_data.drop(['Date','Enrollments','Payments'],1)\n",
    "dataset = pd.DataFrame(AB_data)\n",
    "dataset['type']=type"
   ]
  },
  {
   "cell_type": "code",
   "execution_count": 9,
   "metadata": {},
   "outputs": [
    {
     "data": {
      "text/html": [
       "<div>\n",
       "<style scoped>\n",
       "    .dataframe tbody tr th:only-of-type {\n",
       "        vertical-align: middle;\n",
       "    }\n",
       "\n",
       "    .dataframe tbody tr th {\n",
       "        vertical-align: top;\n",
       "    }\n",
       "\n",
       "    .dataframe thead th {\n",
       "        text-align: right;\n",
       "    }\n",
       "</style>\n",
       "<table border=\"1\" class=\"dataframe\">\n",
       "  <thead>\n",
       "    <tr style=\"text-align: right;\">\n",
       "      <th></th>\n",
       "      <th>Pageviews</th>\n",
       "      <th>Clicks</th>\n",
       "      <th>type</th>\n",
       "    </tr>\n",
       "  </thead>\n",
       "  <tbody>\n",
       "    <tr>\n",
       "      <th>0</th>\n",
       "      <td>7723</td>\n",
       "      <td>937</td>\n",
       "      <td>control</td>\n",
       "    </tr>\n",
       "    <tr>\n",
       "      <th>1</th>\n",
       "      <td>9102</td>\n",
       "      <td>1029</td>\n",
       "      <td>control</td>\n",
       "    </tr>\n",
       "    <tr>\n",
       "      <th>2</th>\n",
       "      <td>10511</td>\n",
       "      <td>1159</td>\n",
       "      <td>control</td>\n",
       "    </tr>\n",
       "    <tr>\n",
       "      <th>3</th>\n",
       "      <td>9871</td>\n",
       "      <td>1086</td>\n",
       "      <td>control</td>\n",
       "    </tr>\n",
       "    <tr>\n",
       "      <th>4</th>\n",
       "      <td>10014</td>\n",
       "      <td>1087</td>\n",
       "      <td>control</td>\n",
       "    </tr>\n",
       "  </tbody>\n",
       "</table>\n",
       "</div>"
      ],
      "text/plain": [
       "   Pageviews  Clicks     type\n",
       "0       7723     937  control\n",
       "1       9102    1029  control\n",
       "2      10511    1159  control\n",
       "3       9871    1086  control\n",
       "4      10014    1087  control"
      ]
     },
     "execution_count": 9,
     "metadata": {},
     "output_type": "execute_result"
    }
   ],
   "source": [
    "# menampilkan 5 baris data paling awal dari dataset\n",
    "dataset.head()"
   ]
  },
  {
   "cell_type": "code",
   "execution_count": 10,
   "metadata": {},
   "outputs": [
    {
     "data": {
      "text/html": [
       "<div>\n",
       "<style scoped>\n",
       "    .dataframe tbody tr th:only-of-type {\n",
       "        vertical-align: middle;\n",
       "    }\n",
       "\n",
       "    .dataframe tbody tr th {\n",
       "        vertical-align: top;\n",
       "    }\n",
       "\n",
       "    .dataframe thead th {\n",
       "        text-align: right;\n",
       "    }\n",
       "</style>\n",
       "<table border=\"1\" class=\"dataframe\">\n",
       "  <thead>\n",
       "    <tr style=\"text-align: right;\">\n",
       "      <th></th>\n",
       "      <th>Pageviews</th>\n",
       "      <th>Clicks</th>\n",
       "      <th>type</th>\n",
       "    </tr>\n",
       "  </thead>\n",
       "  <tbody>\n",
       "    <tr>\n",
       "      <th>32</th>\n",
       "      <td>10042</td>\n",
       "      <td>802</td>\n",
       "      <td>treatment</td>\n",
       "    </tr>\n",
       "    <tr>\n",
       "      <th>33</th>\n",
       "      <td>9721</td>\n",
       "      <td>829</td>\n",
       "      <td>treatment</td>\n",
       "    </tr>\n",
       "    <tr>\n",
       "      <th>34</th>\n",
       "      <td>9304</td>\n",
       "      <td>770</td>\n",
       "      <td>treatment</td>\n",
       "    </tr>\n",
       "    <tr>\n",
       "      <th>35</th>\n",
       "      <td>8668</td>\n",
       "      <td>724</td>\n",
       "      <td>treatment</td>\n",
       "    </tr>\n",
       "    <tr>\n",
       "      <th>36</th>\n",
       "      <td>8988</td>\n",
       "      <td>710</td>\n",
       "      <td>treatment</td>\n",
       "    </tr>\n",
       "  </tbody>\n",
       "</table>\n",
       "</div>"
      ],
      "text/plain": [
       "    Pageviews  Clicks       type\n",
       "32      10042     802  treatment\n",
       "33       9721     829  treatment\n",
       "34       9304     770  treatment\n",
       "35       8668     724  treatment\n",
       "36       8988     710  treatment"
      ]
     },
     "execution_count": 10,
     "metadata": {},
     "output_type": "execute_result"
    }
   ],
   "source": [
    "# menampilkan 5 baris data paling akhir dari dataset\n",
    "dataset.tail()"
   ]
  },
  {
   "cell_type": "markdown",
   "metadata": {},
   "source": [
    "## Visualization of Pageviews & Clicks Group by Type"
   ]
  },
  {
   "cell_type": "code",
   "execution_count": 11,
   "metadata": {
    "scrolled": true
   },
   "outputs": [
    {
     "data": {
      "text/plain": [
       "<matplotlib.axes._subplots.AxesSubplot at 0x1ca31c46668>"
      ]
     },
     "execution_count": 11,
     "metadata": {},
     "output_type": "execute_result"
    },
    {
     "data": {
      "image/png": "[encoded data removed]",
      "text/plain": [
       "<Figure size 1080x720 with 4 Axes>"
      ]
     },
     "metadata": {
      "needs_background": "light"
     },
     "output_type": "display_data"
    }
   ],
   "source": [
    "# Visualisasi countplot dan boxplot dari Pageviews dan Clicks\n",
    "# berdasarkan masing-masing type (Control atau treatment) \n",
    "f=plt.figure(figsize=(15,10))\n",
    "\n",
    "# Distplot dari Clicks\n",
    "f.add_subplot(2,2,1)\n",
    "df = dataset[dataset.type == 'control']\n",
    "sns.distplot(df['Clicks'],  kde=False, color='blue', label='control')\n",
    "df = dataset[dataset.type == 'treatment']\n",
    "sns.distplot(df['Clicks'],  kde=False, color='red', label='treatment')\n",
    "\n",
    "# Distplot dari Pageviews\n",
    "f.add_subplot(2,2,2)\n",
    "df = dataset[dataset.type == 'control']\n",
    "sns.distplot(df['Pageviews'],  kde=False, color='blue', label='control')\n",
    "df = dataset[dataset.type == 'treatment']\n",
    "sns.distplot(df['Pageviews'],  kde=False, color='red', label='treatment')\n",
    "\n",
    "# Boxplot dari Clicks\n",
    "f.add_subplot(2,2,3)\n",
    "sns.boxplot(dataset['Clicks'],y=dataset['type'])\n",
    "\n",
    "# Boxplot dari Pageviews\n",
    "f.add_subplot(2,2,4)\n",
    "sns.boxplot(dataset['Pageviews'],y=dataset['type'])"
   ]
  },
  {
   "cell_type": "markdown",
   "metadata": {},
   "source": [
    "**Distplot & Boxplot Features Clicks** <br>\n",
    "Dari gambar 1 dan gambar 3 dapat dilihat bahwa distribusi antara control dan treatment berbeda. Nilai dari data control seluruhnya lebih besar daripada nilai data treatment. Artinya dapat diduga bahwa respon pengunjung terhadap control lebih baik daripada treatment sehingga website yang sudah ada lebih baik daripada website yang baru. Hal ini tentunya dapat diartikan bahwa inovasi yang dilakukan masih belum maksimal dan bahkan tidak lebih baik dari sebelumnya.\n",
    "<br>\n",
    "\n",
    "**Distplot & Boxplot Features Pageviews** <br>\n",
    "Dari gambar 2 dan gambar 4 dapat dilihat bahwa distribusi antara control dan treatment mirip. Banyaknya pengunjung dari control dan treatment hampir sama. Secara umum pada treatment hampir mendekati atau sama persis seperti control. Hal ini tentunya dapat diartikan bahwa inovasi yang dilakukan sudah cukup baik namun belum bisa dikatakan lebih baik karena jumlah pengunjung sama seperti pada website control. Namun jika dirasa bahwa website control sudah cukup lama dan dirasa membosankan, maka dapat digantikan dengan website kontrol."
   ]
  },
  {
   "cell_type": "markdown",
   "metadata": {},
   "source": [
    "## Z_Test Control dan Treatment"
   ]
  },
  {
   "cell_type": "markdown",
   "metadata": {},
   "source": [
    "## Import Libraries"
   ]
  },
  {
   "cell_type": "code",
   "execution_count": 12,
   "metadata": {},
   "outputs": [],
   "source": [
    "import pandas as pd\n",
    "import numpy as np\n",
    "from scipy import stats\n",
    "from statsmodels.stats import weightstats as stests"
   ]
  },
  {
   "cell_type": "markdown",
   "metadata": {},
   "source": [
    "## Define Z_Test"
   ]
  },
  {
   "cell_type": "markdown",
   "metadata": {},
   "source": [
    "Uji-z paling baik digunakan untuk sampel yang lebih besar dari 30. Sebab dalam teorema limit pusat, ketika jumlah sampel bertambah besar, sampel dianggap mendekati distribusi normal."
   ]
  },
  {
   "cell_type": "markdown",
   "metadata": {},
   "source": [
    "Uji hipotesis yang akan dilakukan untuk control dan treatment adalah sebagai berikut:\n",
    "\n",
    "<br>\n",
    "        H_0    :     P_control == P_treatment <br>\n",
    "        H_1    :     P_control != P_treatment"
   ]
  },
  {
   "cell_type": "code",
   "execution_count": 13,
   "metadata": {},
   "outputs": [],
   "source": [
    "def Z_test(data1, data2) :\n",
    "    \n",
    "    # menentukan rataan dari feature 1 dan 2\n",
    "    data1_mean=np.mean(data1)\n",
    "    data2_mean=np.mean(data2)\n",
    "    \n",
    "    # menentukan standard deviasi dari feature 1 dan 2\n",
    "    data1_std=np.std(data1)\n",
    "    data2_std=np.std(data2)\n",
    "    \n",
    "    # menentukan nilai Z_test dan p-value dari feature 1 dan 2\n",
    "    ztest ,pval1 = stests.ztest(data1, x2=data2, value=0, alternative='two-sided')\n",
    "    \n",
    "    # mendefinisikan decision 1 dan decision 2 untuk analisis Z_test\n",
    "    decision1 = \"reject null hypothesis\"\n",
    "    decision2 = \"nont-reject null hypothesis\"\n",
    "    \n",
    "    # ketika nilai p-value < alfa maka reject H_0, ketika p-value >= alfa maka tidak tolak H_0 \n",
    "    decision = decision1 if pval1 < 0.05 else decision2\n",
    "    \n",
    "    # menampilkan hasil Z_test dalam bentuk DataFrame\n",
    "    # terdiri atas kolom Data (Control dan Treatment), Mean, Std_dev, Z_score, P_value, dan Desicion\n",
    "    tabel=pd.DataFrame()\n",
    "    \n",
    "    tabel['Data']=['Control','Treatment']\n",
    "    tabel['Mean']=[data1_mean,data2_mean]\n",
    "    tabel['Std_dev']=[data1_std,data2_std]\n",
    "    tabel['Z_score']=[ztest,'']\n",
    "    tabel['P_value']=[pval1,'']\n",
    "    tabel['Decision']=[decision,'']\n",
    "    \n",
    "    return tabel"
   ]
  },
  {
   "cell_type": "markdown",
   "metadata": {},
   "source": [
    "### Z_Test Feature Clicks"
   ]
  },
  {
   "cell_type": "code",
   "execution_count": 14,
   "metadata": {},
   "outputs": [
    {
     "data": {
      "text/html": [
       "<div>\n",
       "<style scoped>\n",
       "    .dataframe tbody tr th:only-of-type {\n",
       "        vertical-align: middle;\n",
       "    }\n",
       "\n",
       "    .dataframe tbody tr th {\n",
       "        vertical-align: top;\n",
       "    }\n",
       "\n",
       "    .dataframe thead th {\n",
       "        text-align: right;\n",
       "    }\n",
       "</style>\n",
       "<table border=\"1\" class=\"dataframe\">\n",
       "  <thead>\n",
       "    <tr style=\"text-align: right;\">\n",
       "      <th></th>\n",
       "      <th>Data</th>\n",
       "      <th>Mean</th>\n",
       "      <th>Std_dev</th>\n",
       "      <th>Z_score</th>\n",
       "      <th>P_value</th>\n",
       "      <th>Decision</th>\n",
       "    </tr>\n",
       "  </thead>\n",
       "  <tbody>\n",
       "    <tr>\n",
       "      <th>0</th>\n",
       "      <td>Control</td>\n",
       "      <td>1016.97</td>\n",
       "      <td>67.36</td>\n",
       "      <td>16.2726</td>\n",
       "      <td>1.54452e-59</td>\n",
       "      <td>reject null hypothesis</td>\n",
       "    </tr>\n",
       "    <tr>\n",
       "      <th>1</th>\n",
       "      <td>Treatment</td>\n",
       "      <td>765.54</td>\n",
       "      <td>63.70</td>\n",
       "      <td></td>\n",
       "      <td></td>\n",
       "      <td></td>\n",
       "    </tr>\n",
       "  </tbody>\n",
       "</table>\n",
       "</div>"
      ],
      "text/plain": [
       "        Data     Mean  Std_dev  Z_score      P_value                Decision\n",
       "0    Control  1016.97    67.36  16.2726  1.54452e-59  reject null hypothesis\n",
       "1  Treatment   765.54    63.70                                              "
      ]
     },
     "execution_count": 14,
     "metadata": {},
     "output_type": "execute_result"
    }
   ],
   "source": [
    "Z_test(control['Clicks'],treatment['Clicks']).round(2)"
   ]
  },
  {
   "cell_type": "markdown",
   "metadata": {},
   "source": [
    "Dari hasil uji Z untuk feature Clicks didapat kesimpulan \"reject null hypothesis\". Artinya tidak benar bahwa proporsi dari control dan treatment sama. Sehingga dapat dikatakan bahwa website treatment dapat dikatakan tidak mampu menggantikan website control. Dengan menggunakan website treatment tidak akan membuat performa website akan menjadi lebih baik (tidak akan lebih diminati). Sehingga inovasi yang dibuat perlu ditingkatkan lagi agar memberikan performa yang setidaknya sama dengan website control. Hal ini tentunya membuktikan dugaan yang didapat dari distplot dan boxplot feature Clicks."
   ]
  },
  {
   "cell_type": "markdown",
   "metadata": {},
   "source": [
    "### Z_Test Feature Pageviews"
   ]
  },
  {
   "cell_type": "code",
   "execution_count": 15,
   "metadata": {},
   "outputs": [
    {
     "data": {
      "text/html": [
       "<div>\n",
       "<style scoped>\n",
       "    .dataframe tbody tr th:only-of-type {\n",
       "        vertical-align: middle;\n",
       "    }\n",
       "\n",
       "    .dataframe tbody tr th {\n",
       "        vertical-align: top;\n",
       "    }\n",
       "\n",
       "    .dataframe thead th {\n",
       "        text-align: right;\n",
       "    }\n",
       "</style>\n",
       "<table border=\"1\" class=\"dataframe\">\n",
       "  <thead>\n",
       "    <tr style=\"text-align: right;\">\n",
       "      <th></th>\n",
       "      <th>Data</th>\n",
       "      <th>Mean</th>\n",
       "      <th>Std_dev</th>\n",
       "      <th>Z_score</th>\n",
       "      <th>P_value</th>\n",
       "      <th>Decision</th>\n",
       "    </tr>\n",
       "  </thead>\n",
       "  <tbody>\n",
       "    <tr>\n",
       "      <th>0</th>\n",
       "      <td>Control</td>\n",
       "      <td>9339.00</td>\n",
       "      <td>730.17</td>\n",
       "      <td>0.141712</td>\n",
       "      <td>0.887308</td>\n",
       "      <td>nont-reject null hypothesis</td>\n",
       "    </tr>\n",
       "    <tr>\n",
       "      <th>1</th>\n",
       "      <td>Treatment</td>\n",
       "      <td>9315.14</td>\n",
       "      <td>698.44</td>\n",
       "      <td></td>\n",
       "      <td></td>\n",
       "      <td></td>\n",
       "    </tr>\n",
       "  </tbody>\n",
       "</table>\n",
       "</div>"
      ],
      "text/plain": [
       "        Data     Mean  Std_dev   Z_score   P_value  \\\n",
       "0    Control  9339.00   730.17  0.141712  0.887308   \n",
       "1  Treatment  9315.14   698.44                       \n",
       "\n",
       "                      Decision  \n",
       "0  nont-reject null hypothesis  \n",
       "1                               "
      ]
     },
     "execution_count": 15,
     "metadata": {},
     "output_type": "execute_result"
    }
   ],
   "source": [
    "Z_test(control['Pageviews'],treatment['Pageviews']).round(2)"
   ]
  },
  {
   "cell_type": "markdown",
   "metadata": {},
   "source": [
    "Dari hasil uji Z untuk features Pageviews didapat kesimpulan \"not-reject null hypothesis\". Artinya dapat dikatakan bahwa proporsi dasi control dan treatment sama. Sehingga dapat dikatakan bahwa website treatment dapat dikatakan mampu menggantikan website control. Dengan menggunakan website treatment dapat memebrikan performa yang setidaknya sama dengan website control. Hal ini dapat dilakukan jika website control sudah terlalu lama dan bisa jadi ada indikasi bahwa pengunjung akan mulai bosan. Dengan digantikannya oleh websote treatment setidaknya tidak akan menurunkan performa dan ada kemungkinan nantinya akan menaikkan performa karena mengunjung merasa lebih fresh dengan tampilan yang baru. Hal ini tentunya membuktikan dugaan yang didapat dari distplot dan boxplot feature Pageviews."
   ]
  },
  {
   "cell_type": "markdown",
   "metadata": {},
   "source": [
    "## Conclusion"
   ]
  },
  {
   "cell_type": "markdown",
   "metadata": {},
   "source": [
    "Dari kedua features di atas dapat disimpulkan bahwa Clicks memiliki pengaruh yang lebih kuat terhadap performa dari control dan treatment. Dari hasil treatment yang dilakukan terhadap website dapat memberikan performa yang setidaknya sama dengan website control. Sehingga jika dirasa bahwa website control sudah cukup lama digunakan, maka websote treatment dapat menjadi opsi untuk memberikan nuansa baru. Dengan perubahan tersebut setidaknya tidak akan menurunkan performa dan bisa jadi akan menambah performa yang sudah ada. Sebab dengan nuansa baru bisa jadi akan menarik minat pengunjung/pengguna."
   ]
  }
 ],
 "metadata": {
  "kernelspec": {
   "display_name": "Python 3",
   "language": "python",
   "name": "python3"
  },
  "language_info": {
   "codemirror_mode": {
    "name": "ipython",
    "version": 3
   },
   "file_extension": ".py",
   "mimetype": "text/x-python",
   "name": "python",
   "nbconvert_exporter": "python",
   "pygments_lexer": "ipython3",
   "version": "3.7.3"
  }
 },
 "nbformat": 4,
 "nbformat_minor": 2
}
