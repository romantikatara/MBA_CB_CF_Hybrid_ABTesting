{
 "cells": [
  {
   "cell_type": "markdown",
   "metadata": {},
   "source": [
    "# Collaborative Filtering"
   ]
  },
  {
   "cell_type": "markdown",
   "metadata": {},
   "source": [
    "Pada code ini akan dilakukan colaborative filtering (user-based nearest neighbor) dari data pemberian rating oleh 24 customer pada 10 film yang ada pada dataset.\n",
    "<br>\n",
    "<br>\n",
    "Analisis ini ditujukan untuk:\n",
    "1. Menentukan rekomendasi film kepada customer tertentu terhadap film-film yang belum ditonton. Dalam hal ini ketika customer tidak memberikan rating pada film maka diasumsikan bahwa customer tersebut belum menonton film tersebut.\n",
    "2. Mengetahui hubungan antar dua orang customer berdasarkan kemiripan rating yang diberikan kepada masing-masing film pada dataset.\n",
    "3. Mengetahui hubungan antar dua orang customer berdasarkan kemiripan film-film yang sudah ditonton dan belum ditonton.\n",
    "\n",
    "Dataset yang digunakan terdiri atas 11 features, yaitu nama customer dan rating yang diberikan kepada masing-masing film terpilih yang terdiri atas:\n",
    "1. Ada Apa dengan Cinta 2\n",
    "2. Gundala\n",
    "3. Dilan 1991\n",
    "4. Bumi Manusia \n",
    "5. Dua Garis Biru\n",
    "6. Avengers: End Game\n",
    "7. The Lion King\n",
    "8. Aladdin\n",
    "9. Spiderman: Far From Home\n",
    "10. Captain Marvel\n",
    "<br>"
   ]
  },
  {
   "cell_type": "markdown",
   "metadata": {},
   "source": [
    "## Import Libraries"
   ]
  },
  {
   "cell_type": "code",
   "execution_count": 1,
   "metadata": {},
   "outputs": [],
   "source": [
    "# import Libraries\n",
    "# ambil dari dataset adsb_rating untuk import dataset movie ratings\n",
    "import pandas as pd \n",
    "import numpy as np\n",
    "from adsb_rating import dataset\n",
    "from math import sqrt"
   ]
  },
  {
   "cell_type": "markdown",
   "metadata": {},
   "source": [
    "## Load Data"
   ]
  },
  {
   "cell_type": "code",
   "execution_count": 4,
   "metadata": {},
   "outputs": [
    {
     "data": {
      "text/html": [
       "<div>\n",
       "<style scoped>\n",
       "    .dataframe tbody tr th:only-of-type {\n",
       "        vertical-align: middle;\n",
       "    }\n",
       "\n",
       "    .dataframe tbody tr th {\n",
       "        vertical-align: top;\n",
       "    }\n",
       "\n",
       "    .dataframe thead th {\n",
       "        text-align: right;\n",
       "    }\n",
       "</style>\n",
       "<table border=\"1\" class=\"dataframe\">\n",
       "  <thead>\n",
       "    <tr style=\"text-align: right;\">\n",
       "      <th></th>\n",
       "      <th>customer</th>\n",
       "      <th>movie_id</th>\n",
       "      <th>rating</th>\n",
       "    </tr>\n",
       "  </thead>\n",
       "  <tbody>\n",
       "    <tr>\n",
       "      <th>0</th>\n",
       "      <td>Aika</td>\n",
       "      <td>1001</td>\n",
       "      <td>3.0</td>\n",
       "    </tr>\n",
       "    <tr>\n",
       "      <th>1</th>\n",
       "      <td>Aika</td>\n",
       "      <td>1002</td>\n",
       "      <td>5.0</td>\n",
       "    </tr>\n",
       "    <tr>\n",
       "      <th>2</th>\n",
       "      <td>Aika</td>\n",
       "      <td>1003</td>\n",
       "      <td>4.0</td>\n",
       "    </tr>\n",
       "    <tr>\n",
       "      <th>3</th>\n",
       "      <td>Aika</td>\n",
       "      <td>1004</td>\n",
       "      <td>4.0</td>\n",
       "    </tr>\n",
       "    <tr>\n",
       "      <th>4</th>\n",
       "      <td>Aika</td>\n",
       "      <td>1005</td>\n",
       "      <td>4.0</td>\n",
       "    </tr>\n",
       "  </tbody>\n",
       "</table>\n",
       "</div>"
      ],
      "text/plain": [
       "  customer  movie_id  rating\n",
       "0     Aika      1001     3.0\n",
       "1     Aika      1002     5.0\n",
       "2     Aika      1003     4.0\n",
       "3     Aika      1004     4.0\n",
       "4     Aika      1005     4.0"
      ]
     },
     "execution_count": 4,
     "metadata": {},
     "output_type": "execute_result"
    }
   ],
   "source": [
    "df_rating = pd.read_csv('../data/ratings.csv')\n",
    "df_rating.head()"
   ]
  },
  {
   "cell_type": "code",
   "execution_count": 5,
   "metadata": {},
   "outputs": [
    {
     "data": {
      "text/html": [
       "<div>\n",
       "<style scoped>\n",
       "    .dataframe tbody tr th:only-of-type {\n",
       "        vertical-align: middle;\n",
       "    }\n",
       "\n",
       "    .dataframe tbody tr th {\n",
       "        vertical-align: top;\n",
       "    }\n",
       "\n",
       "    .dataframe thead th {\n",
       "        text-align: right;\n",
       "    }\n",
       "</style>\n",
       "<table border=\"1\" class=\"dataframe\">\n",
       "  <thead>\n",
       "    <tr style=\"text-align: right;\">\n",
       "      <th></th>\n",
       "      <th>movie_id</th>\n",
       "      <th>movie</th>\n",
       "    </tr>\n",
       "  </thead>\n",
       "  <tbody>\n",
       "    <tr>\n",
       "      <th>0</th>\n",
       "      <td>1001</td>\n",
       "      <td>Ada Apa dengan Cinta 2</td>\n",
       "    </tr>\n",
       "    <tr>\n",
       "      <th>1</th>\n",
       "      <td>1002</td>\n",
       "      <td>Gundala</td>\n",
       "    </tr>\n",
       "    <tr>\n",
       "      <th>2</th>\n",
       "      <td>1003</td>\n",
       "      <td>Dilan 1991</td>\n",
       "    </tr>\n",
       "    <tr>\n",
       "      <th>3</th>\n",
       "      <td>1004</td>\n",
       "      <td>Bumi Manusia</td>\n",
       "    </tr>\n",
       "    <tr>\n",
       "      <th>4</th>\n",
       "      <td>1005</td>\n",
       "      <td>Dua Garis Biru</td>\n",
       "    </tr>\n",
       "  </tbody>\n",
       "</table>\n",
       "</div>"
      ],
      "text/plain": [
       "   movie_id                   movie\n",
       "0      1001  Ada Apa dengan Cinta 2\n",
       "1      1002                 Gundala\n",
       "2      1003              Dilan 1991\n",
       "3      1004           Bumi Manusia \n",
       "4      1005          Dua Garis Biru"
      ]
     },
     "execution_count": 5,
     "metadata": {},
     "output_type": "execute_result"
    }
   ],
   "source": [
    "df_movies = pd.read_csv('../data/moviescode.csv')\n",
    "df_movies.head()"
   ]
  },
  {
   "cell_type": "code",
   "execution_count": 6,
   "metadata": {},
   "outputs": [
    {
     "data": {
      "text/html": [
       "<div>\n",
       "<style scoped>\n",
       "    .dataframe tbody tr th:only-of-type {\n",
       "        vertical-align: middle;\n",
       "    }\n",
       "\n",
       "    .dataframe tbody tr th {\n",
       "        vertical-align: top;\n",
       "    }\n",
       "\n",
       "    .dataframe thead th {\n",
       "        text-align: right;\n",
       "    }\n",
       "</style>\n",
       "<table border=\"1\" class=\"dataframe\">\n",
       "  <thead>\n",
       "    <tr style=\"text-align: right;\">\n",
       "      <th></th>\n",
       "      <th>customer</th>\n",
       "      <th>movie_id</th>\n",
       "      <th>rating</th>\n",
       "      <th>movie</th>\n",
       "    </tr>\n",
       "  </thead>\n",
       "  <tbody>\n",
       "    <tr>\n",
       "      <th>0</th>\n",
       "      <td>Aika</td>\n",
       "      <td>1001</td>\n",
       "      <td>3.0</td>\n",
       "      <td>Ada Apa dengan Cinta 2</td>\n",
       "    </tr>\n",
       "    <tr>\n",
       "      <th>1</th>\n",
       "      <td>Bika</td>\n",
       "      <td>1001</td>\n",
       "      <td>NaN</td>\n",
       "      <td>Ada Apa dengan Cinta 2</td>\n",
       "    </tr>\n",
       "    <tr>\n",
       "      <th>2</th>\n",
       "      <td>Cika</td>\n",
       "      <td>1001</td>\n",
       "      <td>NaN</td>\n",
       "      <td>Ada Apa dengan Cinta 2</td>\n",
       "    </tr>\n",
       "    <tr>\n",
       "      <th>3</th>\n",
       "      <td>Dika</td>\n",
       "      <td>1001</td>\n",
       "      <td>4.0</td>\n",
       "      <td>Ada Apa dengan Cinta 2</td>\n",
       "    </tr>\n",
       "    <tr>\n",
       "      <th>4</th>\n",
       "      <td>Eika</td>\n",
       "      <td>1001</td>\n",
       "      <td>3.0</td>\n",
       "      <td>Ada Apa dengan Cinta 2</td>\n",
       "    </tr>\n",
       "  </tbody>\n",
       "</table>\n",
       "</div>"
      ],
      "text/plain": [
       "  customer  movie_id  rating                   movie\n",
       "0     Aika      1001     3.0  Ada Apa dengan Cinta 2\n",
       "1     Bika      1001     NaN  Ada Apa dengan Cinta 2\n",
       "2     Cika      1001     NaN  Ada Apa dengan Cinta 2\n",
       "3     Dika      1001     4.0  Ada Apa dengan Cinta 2\n",
       "4     Eika      1001     3.0  Ada Apa dengan Cinta 2"
      ]
     },
     "execution_count": 6,
     "metadata": {},
     "output_type": "execute_result"
    }
   ],
   "source": [
    "df = pd.merge(df_rating, df_movies, on='movie_id')\n",
    "df.head()"
   ]
  },
  {
   "cell_type": "code",
   "execution_count": 7,
   "metadata": {},
   "outputs": [
    {
     "data": {
      "text/plain": [
       "movie\n",
       "Avengers: End Game          4.7\n",
       "Bumi Manusia                4.5\n",
       "Aladdin                     4.4\n",
       "Spiderman: Far From Home    4.4\n",
       "The Lion King               4.3\n",
       "Captain Marvel              4.0\n",
       "Ada Apa dengan Cinta 2      3.9\n",
       "Gundala                     3.9\n",
       "Dua Garis Biru              3.8\n",
       "Dilan 1991                  3.7\n",
       "Name: rating, dtype: float64"
      ]
     },
     "execution_count": 7,
     "metadata": {},
     "output_type": "execute_result"
    }
   ],
   "source": [
    "df.groupby('movie')['rating'].mean().sort_values(ascending=False).round(1)"
   ]
  },
  {
   "cell_type": "code",
   "execution_count": 8,
   "metadata": {},
   "outputs": [
    {
     "data": {
      "text/plain": [
       "movie\n",
       "Avengers: End Game          19\n",
       "Captain Marvel              18\n",
       "Ada Apa dengan Cinta 2      17\n",
       "Spiderman: Far From Home    16\n",
       "Dilan 1991                  14\n",
       "Aladdin                     14\n",
       "Gundala                     13\n",
       "The Lion King               11\n",
       "Dua Garis Biru               9\n",
       "Bumi Manusia                 6\n",
       "Name: rating, dtype: int64"
      ]
     },
     "execution_count": 8,
     "metadata": {},
     "output_type": "execute_result"
    }
   ],
   "source": [
    "df.groupby('movie')['rating'].count().sort_values(ascending=False).round(1)"
   ]
  },
  {
   "cell_type": "markdown",
   "metadata": {},
   "source": [
    "**Movies Analysis** <br>\n",
    "Dari data di atas terlihat bahwa film yang paling banyak ditonton adalah Avengers: End Game dan film yang ratingnya paling bagus adalah Avengers: End Game. Sehingga dapat disimpulkan bahwa Avengers: End Game dapat direkomendasikan untuk seluruh customer yang belum pernah menonton. Karena peluang customer tersebut akan suka dengan Avengers: End Game sangat besar."
   ]
  },
  {
   "cell_type": "markdown",
   "metadata": {},
   "source": [
    "## User Recommendations"
   ]
  },
  {
   "cell_type": "markdown",
   "metadata": {},
   "source": [
    "Berikut adalah code yang digunakan untuk menentukan rekomendasi seluruh film yang belum ditonton oleh seorang customer diurutkan berdasarkan rating yang paling tinggi. "
   ]
  },
  {
   "cell_type": "code",
   "execution_count": 9,
   "metadata": {},
   "outputs": [],
   "source": [
    "# rekomendasi film yang belum ditonton kepada seorang customer diurutkan berdasarkan rating tertinggi\n",
    "def user_recommendations(person):\n",
    "\n",
    "    # memberikan rekomendasi film berdasarkan rata-rata rating yang diberikan oleh customer lainnya kepada masing-masing film\n",
    "    totals = {}\n",
    "    simSums = {}\n",
    "    rankings_list =[]\n",
    "    for other in dataset:\n",
    "        # rating yang digunakan untuk menentukan rekomendasi kepada customer, mengabaikan rating dari customer itu sendiri\n",
    "        if other == person:\n",
    "            continue\n",
    "        sim = person_correlation(person,other)\n",
    "        #print \">>>>>>>\",sim\n",
    "\n",
    "        # mengabaikan jika korelasi pearson antara customer tersebut dengan customer lain bernilai 0\n",
    "        if sim <=0: \n",
    "            continue\n",
    "        for item in dataset[other]:\n",
    "\n",
    "            # hanya menggunakan film-film yang sudah sama-sama ditonton oleh customer tersebut dengan customer lain\n",
    "            if item not in dataset[person] or dataset[person][item] == 0:\n",
    "\n",
    "            # total dari seluruh kolerasi pearson antara customer tersebut dengan customer lainnya\n",
    "                totals.setdefault(item,0)\n",
    "                totals[item] += dataset[other][item]* sim\n",
    "                # jumlah dari seluruh korelasi pearson dari customer tersebut dengan customer lain\n",
    "                simSums.setdefault(item,0)\n",
    "                simSums[item]+= sim\n",
    "\n",
    "    # score yang digunakan untuk pemberian rekomendasi film adalah\n",
    "    # normalisasi dari jumlah seluruh rating yang diberikan oleh customer lain pada masing-masing film yang belum ditonton oleh customer tersebut\n",
    "    rankings = [(total/simSums[item],item) for item,total in totals.items()]\n",
    "    # mengurutkan normalisasi rating dari yang tertinggi sampai dengan terendah\n",
    "    rankings.reverse()\n",
    "    # returns the recommended items\n",
    "    recommendataions_list = [recommend_item for score,recommend_item in rankings]\n",
    "    return recommendataions_list"
   ]
  },
  {
   "cell_type": "markdown",
   "metadata": {},
   "source": [
    "## Similarity Score"
   ]
  },
  {
   "cell_type": "markdown",
   "metadata": {},
   "source": [
    "Berikut adalah code yang digunakan untuk menentukan seberapa mirip rating yang diberikan untuk seluruh film oleh 2 orang customer."
   ]
  },
  {
   "cell_type": "code",
   "execution_count": 10,
   "metadata": {},
   "outputs": [],
   "source": [
    "# hubungan pemberian score antara customer 1 dan customer 2 terhadap masing-masing film\n",
    "def similarity_score(person1,person2):\n",
    "\n",
    "    # menentukan kesamaan pemberian score terhadap masing-masing film\n",
    "    # dengan menggunakan euclidean distance antara customer 1 dan customer 2 \n",
    "\n",
    "    # Jika customer 1 dan customer 2 sama-sama telah menonton film tertentu maka akan diberikan nilai 1\n",
    "    both_viewed = {}\n",
    "\n",
    "    for item in dataset[person1]:\n",
    "        if item in dataset[person2]:\n",
    "            both_viewed[item] = 1\n",
    "        \n",
    "        # Jika customer 1 dan customer 2 sama-sama belum menonton film tertentu maka akan diberikan nilai 0\n",
    "        if len(both_viewed) == 0:\n",
    "            return 0\n",
    "\n",
    "        # menentukan euclidean distance\n",
    "        sum_of_eclidean_distance = []\n",
    "\n",
    "        for item in dataset[person1]:\n",
    "            if item in dataset[person2]:\n",
    "                sum_of_eclidean_distance.append(pow(dataset[person1][item] - dataset[person2][item], 2))\n",
    "        sum_of_eclidean_distance = sum(sum_of_eclidean_distance)\n",
    "        \n",
    "        return 1/(1+sqrt(sum_of_eclidean_distance))"
   ]
  },
  {
   "cell_type": "markdown",
   "metadata": {},
   "source": [
    "## Person Correlation"
   ]
  },
  {
   "cell_type": "markdown",
   "metadata": {},
   "source": [
    "Berikut ada code yang digunakan untuk menentukan seberapa mirip kesukaan film antara 2 customer berdasarkan film-film yang telah ditonton oleh keduanya."
   ]
  },
  {
   "cell_type": "code",
   "execution_count": 11,
   "metadata": {},
   "outputs": [],
   "source": [
    "# hubungan antara customer 1 dan customer 2 terhadap film-film yang sudah ditonton\n",
    "def person_correlation(person1, person2):\n",
    "\n",
    "   # Jika customer 1 dan customer 2 sama-sama telah menonton film tertentu maka akan diberikan nilai 1\n",
    "    both_rated = {}\n",
    "    for item in dataset[person1]:\n",
    "        if item in dataset[person2]:\n",
    "            both_rated[item] = 1\n",
    "\n",
    "    number_of_ratings = len(both_rated)\n",
    "\n",
    "    # Jika customer 1 dan customer 2 sama-sama belum menonton film tertentu maka akan diberikan nilai 0\n",
    "    if number_of_ratings == 0:\n",
    "        return 0\n",
    "\n",
    "    # menjumlahkan seluruh preferensi film-film yang telah ditonton oleh customer 1 dan customer 2\n",
    "    person1_preferences_sum = sum([dataset[person1][item] for item in both_rated])\n",
    "    person2_preferences_sum = sum([dataset[person2][item] for item in both_rated])\n",
    "\n",
    "    # menjumlahkan dari kuadrat masing-masing preferensi film-film yang telah ditonton oleh customer 1 dan customer 2\n",
    "    person1_square_preferences_sum = sum([pow(dataset[person1][item],2) for item in both_rated])\n",
    "    person2_square_preferences_sum = sum([pow(dataset[person2][item],2) for item in both_rated])\n",
    "\n",
    "    # menjumlahkan hasil kali dari preferensi kedua customer untuk masing-maasing film\n",
    "    product_sum_of_both_users = sum([dataset[person1][item] * dataset[person2][item] for item in both_rated])\n",
    "\n",
    "    # mencari korelasi antara customer 1 dan customer 2 berdasarkan film-film yang sudah pernah ditonton\n",
    "    numerator_value = product_sum_of_both_users - (person1_preferences_sum * person2_preferences_sum / number_of_ratings)\n",
    "    denominator_value = sqrt((person1_square_preferences_sum - pow(person1_preferences_sum,2) / number_of_ratings) * (person2_square_preferences_sum -pow(person2_preferences_sum,2)/number_of_ratings))\n",
    "\n",
    "    if denominator_value == 0:\n",
    "        return 0\n",
    "    else:\n",
    "        r = numerator_value / denominator_value\n",
    "        return r"
   ]
  },
  {
   "cell_type": "markdown",
   "metadata": {},
   "source": [
    "## Person Correlation with All Others Customer"
   ]
  },
  {
   "cell_type": "markdown",
   "metadata": {},
   "source": [
    "Berikut adalah code yang digunakan untuk melihat kesamaan selera film yang telah ditonton oleh seorang customer dengan customer lainnya diurutkan dari kesamaan yang paling dekat dengan customer tersebut."
   ]
  },
  {
   "cell_type": "code",
   "execution_count": 12,
   "metadata": {},
   "outputs": [],
   "source": [
    "def person_correlation_toall(person, number_of_users):\n",
    "\n",
    "    # korelasi antara customer 1 dan customer 2\n",
    "    scores = [(person_correlation(person, other_person), other_person) for other_person in dataset if other_person != person]\n",
    "\n",
    "    # mengurutkan korelasi antara customer 1 dan customer 2 pada masing-masing pasangan yang muncul\n",
    "    # diurutkan dari nilai korelasi tertinggi\n",
    "    scores.sort()\n",
    "    scores.reverse()\n",
    "    return scores[0:number_of_users]"
   ]
  },
  {
   "cell_type": "markdown",
   "metadata": {},
   "source": [
    "## Example Case\n",
    "\n",
    "Memberikan rekomendasi untuk Oika dan Kika serta mengetahui seberapa dekat kesamaan diantara keduanya."
   ]
  },
  {
   "cell_type": "code",
   "execution_count": 13,
   "metadata": {},
   "outputs": [
    {
     "name": "stdout",
     "output_type": "stream",
     "text": [
      "0.18660549686337075\n"
     ]
    }
   ],
   "source": [
    "# peluang kesamaan pemberian rating pada masing-masing film oleh Oika dan Kika\n",
    "print(similarity_score('Oika','Kika'))"
   ]
  },
  {
   "cell_type": "markdown",
   "metadata": {},
   "source": [
    "Nilai peluang pemberian rating yang sama untuk suatu film tertentu oleh Oika dan Kika hanya 0.19. Artinya standard baik/tidaknya pun bagus/buruknya suatu film berbeda jauh. Jadi misalkan bagi Oika film tersebut bagus pun baik, namun bagi Kika film tersebut tidak bagus pun tidak baik dan berlaku sebaliknya."
   ]
  },
  {
   "cell_type": "code",
   "execution_count": 14,
   "metadata": {},
   "outputs": [
    {
     "name": "stdout",
     "output_type": "stream",
     "text": [
      "0.0652546122079844\n"
     ]
    }
   ],
   "source": [
    "# seberapa erat kesamaan antara Oika dan Kika terhadap selera film berdasarkan film-film yang sudah ditonton oleh keduanya\n",
    "print(person_correlation('Bika', 'Jika'))"
   ]
  },
  {
   "cell_type": "markdown",
   "metadata": {},
   "source": [
    "Nilai korelasi pearson antara Oika dan Kika mencapai 0.78. Artinya dapat dikatakan bahwa film-film yang disukai oleh Oika kemungkinan besar disukai juga oleh Kika dan berlaku sebaliknya. Sehingga jika film tersebut ditonton oleh Oika kemungkinan besar Kika juga menontonnya dan berlaku sebaliknya. Dengan hubungan ini maka dapat memberikan rekomendasi untuk nonton bersama antara Oika dan Kika karena peluang sama-sama suka terhadap suatu film yang dipilih oleh salah satu diantara mereka cukup tinggi."
   ]
  },
  {
   "cell_type": "code",
   "execution_count": 15,
   "metadata": {},
   "outputs": [
    {
     "name": "stdout",
     "output_type": "stream",
     "text": [
      "['Dua Garis Biru', 'Bumi Manusia', 'Ada Apa dengan Cinta 2']\n"
     ]
    }
   ],
   "source": [
    "# rekomendasi film untuk Oika dari keseluruhan film yang berlum ditonton diurutkan berdasarkan score tertinggi\n",
    "print(user_recommendations('Oika'))"
   ]
  },
  {
   "cell_type": "markdown",
   "metadata": {},
   "source": [
    "Film yang belum ditonton oleh Oika dari 10 film tersedia ada tiga, yaitu AADC2, Dua Garis Biru, dan Bumi Manusia. berdasarkan behavior dari customer lainnya yang telah menonton film-film tersebut maka dapat memberikan rekomendasi kepada Oika untuk menonton AADC2 sebab pada kelompok orang sekitar film tersebut memberikan kesan yang baik yang dibuktikan dengan rating tertinggi dari tiga pilihan film."
   ]
  },
  {
   "cell_type": "code",
   "execution_count": 16,
   "metadata": {},
   "outputs": [
    {
     "name": "stdout",
     "output_type": "stream",
     "text": [
      "['Dua Garis Biru', 'Bumi Manusia']\n"
     ]
    }
   ],
   "source": [
    "# rekomendasi film untuk Kika dari keseluruhan film yang berlum ditonton diurutkan berdasarkan score tertinggi\n",
    "print(user_recommendations('Kika'))"
   ]
  },
  {
   "cell_type": "markdown",
   "metadata": {},
   "source": [
    "Film yang belum ditonton oleh Kika dari 10 film tersedia ada dua, yaitu Dua Garis Biru, dan Bumi Manusia. berdasarkan behavior dari customer lainnya yang telah menonton film-film tersebut maka dapat memberikan rekomendasi kepada Kika untuk menonton Dua Garis Biru sebab pada kelompok orang sekitar film tersebut memberikan kesan yang baik yang dibuktikan dengan rating tertinggi dari dua pilihan film."
   ]
  },
  {
   "cell_type": "code",
   "execution_count": null,
   "metadata": {},
   "outputs": [],
   "source": [
    "# melihat customer mana yang memiliki kesamaan paling erat dengan Oika berdasarkan preferensi film yang sudah ditonton oleh keduanya\n",
    "print(person_correlation_toall('Oika', 24))"
   ]
  },
  {
   "cell_type": "markdown",
   "metadata": {},
   "source": [
    "Dari list korelasi pearson antara Oika dan customer lainnya dapat dilihat bahwa korelasi terbesar adalah antara Oika dengan Kika, yaitu senilai 0.78. Sehingga dapat disimpulkaln bahwa Oika dan Kika memiliki selera serupa dalam hal film. Sesuai dengan yang telah disebutkan di atas bahwa kedua akan memiliki kesan yang baik ketika menonton bersama. Film yang dipilih oleh Oika kemungkinan besar akan disukai oleh Kika, begitu pula sebaliknya."
   ]
  },
  {
   "cell_type": "markdown",
   "metadata": {},
   "source": [
    "## Conclusion"
   ]
  },
  {
   "cell_type": "markdown",
   "metadata": {},
   "source": [
    "Dari hasil collaborative analysis di atas terdapat 2 hal yang dapat menjadi rekomendasi ataupun improvement:\n",
    "1. Memberikan rekomendasi film untuk ditonton oleh seorang customer dengan melihat behaviour dari kelompok customer lainnya selain dirinya sendiri. Dalam hal ini dilihat film manakah yang paling diminati oleh customer lainnya, maka film tersebut yang akan direkomendasikan dengan customer.\n",
    "2. Memberikan rekomendasi pasangan nonton bersama dengan melihat kesamaan selera antar dua pelanggan berdasarkan film-film yang telah ditonton oleh masing-masing dari mereka. Jika film yang telah ditonton oleh keduanya mayoritas sama (korelasi > 0.5) maka keduanya dapat direkomendasikan untuk nonton bersama."
   ]
  }
 ],
 "metadata": {
  "kernelspec": {
   "display_name": "Python 3",
   "language": "python",
   "name": "python3"
  },
  "language_info": {
   "codemirror_mode": {
    "name": "ipython",
    "version": 3
   },
   "file_extension": ".py",
   "mimetype": "text/x-python",
   "name": "python",
   "nbconvert_exporter": "python",
   "pygments_lexer": "ipython3",
   "version": "3.7.3"
  }
 },
 "nbformat": 4,
 "nbformat_minor": 2
}
